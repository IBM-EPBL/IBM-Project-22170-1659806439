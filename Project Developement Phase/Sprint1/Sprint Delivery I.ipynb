{
 "cells": [
  {
   "cell_type": "markdown",
   "id": "51d4bf51",
   "metadata": {},
   "source": [
    "# TEAMID PPNT2022TMID02379"
   ]
  },
  {
   "cell_type": "markdown",
   "id": "dc9e7ff0",
   "metadata": {},
   "source": [
    "# Visualizing and Predicting Heart Diseases with an Interactive Dashboard"
   ]
  },
  {
   "cell_type": "markdown",
   "id": "59c6c9d3",
   "metadata": {},
   "source": [
    "# **Heart Disease Prediction using Machine Learning Approach**\n",
    "\n",
    "Heart Disease (including Coronary Heart Disease, Hypertension, and Stroke) remains the No. 1 cause of death in the US.The Heart Disease and Stroke Statistics—2019 Update from the American Heart Association indicates that:\n",
    "\n",
    "\n",
    "*   116.4 million, or 46% of US adults are estimated to have hypertension. These are findings related to the new 2017 Hypertension Clinical Practice Guidelines.\n",
    "*   On average, someone dies of CVD every 38 seconds. About 2,303 deaths from CVD each day, based on 2016 data.\n",
    "*   On average, someone dies of a stroke every 3.70 minutes. About 389.4 deaths from stroke each day, based on 2016 data.\n",
    "\n",
    "In this machine learning project, we have collected the dataset from UCI (https://archive.ics.uci.edu/ml/datasets/statlog+(heart)) and we will be using Machine Learning to make predictions on whether a person is suffering from Heart Disease or not.\n",
    "\n",
    "\n"
   ]
  },
  {
   "cell_type": "markdown",
   "id": "74f1f4b8",
   "metadata": {},
   "source": [
    "**Problem Statement**\n",
    "\n",
    "*   Complete analysis of Heart Disease UCI dataset.\n",
    "*   To predict whether a person has a heart disease or not based on the various biological and physical parameters.\n",
    "\n",
    "\n",
    "\n"
   ]
  },
  {
   "cell_type": "markdown",
   "id": "8f96f7ef",
   "metadata": {},
   "source": [
    "**Machine Learning Algorithms**\n",
    "\n",
    "*   Random Forest Classifier\n",
    "*   K-Nearest Neighbors Classifier\n",
    "*   Decision Tree Classifier\n",
    "*   Naive Bayes Classifier"
   ]
  },
  {
   "cell_type": "markdown",
   "id": "e95938c9",
   "metadata": {},
   "source": [
    "## **Import libraries**\n",
    "\n",
    "Let's first import all the necessary libraries. We will use `numpy` and `pandas` to start with. For visualization, we will use`pyplot` subpackage of `matplotlib`, use `rcParams` to add styling to the plots and `rainbow` for colors and `seaborn`. For implementing Machine Learning models and processing of data, we will use the `sklearn` library."
   ]
  },
  {
   "cell_type": "code",
   "execution_count": 1,
   "id": "25a34bcf",
   "metadata": {},
   "outputs": [],
   "source": [
    "import pandas as pd \n",
    "import numpy as np\n",
    "import matplotlib.pyplot as plt\n",
    "from matplotlib import rcParams\n",
    "from matplotlib.cm import rainbow\n",
    "import seaborn as sns\n",
    "%matplotlib inline"
   ]
  },
  {
   "cell_type": "markdown",
   "id": "4cf878fa",
   "metadata": {},
   "source": [
    "For processing the data, we'll import a few libraries. To split the available dataset for testing and training, we'll use the `train_test_split` method. To scale the features, we are using `StandardScaler`."
   ]
  },
  {
   "cell_type": "code",
   "execution_count": 2,
   "id": "09a95e77",
   "metadata": {},
   "outputs": [],
   "source": [
    "from sklearn.model_selection import train_test_split\n",
    "from sklearn.preprocessing import StandardScaler\n",
    "from sklearn.preprocessing import LabelEncoder\n",
    "from sklearn import tree\n",
    "from warnings import filterwarnings\n",
    "filterwarnings(\"ignore\")"
   ]
  },
  {
   "cell_type": "code",
   "execution_count": 3,
   "id": "078bef0d",
   "metadata": {},
   "outputs": [
    {
     "ename": "ModuleNotFoundError",
     "evalue": "No module named 'mlxtend'",
     "output_type": "error",
     "traceback": [
      "\u001b[1;31m---------------------------------------------------------------------------\u001b[0m",
      "\u001b[1;31mModuleNotFoundError\u001b[0m                       Traceback (most recent call last)",
      "\u001b[1;32m~\\AppData\\Local\\Temp/ipykernel_3492/1290926411.py\u001b[0m in \u001b[0;36m<module>\u001b[1;34m\u001b[0m\n\u001b[0;32m      3\u001b[0m \u001b[1;32mfrom\u001b[0m \u001b[0msklearn\u001b[0m\u001b[1;33m.\u001b[0m\u001b[0mmetrics\u001b[0m \u001b[1;32mimport\u001b[0m \u001b[0mclassification_report\u001b[0m\u001b[1;33m,\u001b[0m \u001b[0mconfusion_matrix\u001b[0m\u001b[1;33m,\u001b[0m\u001b[0maccuracy_score\u001b[0m\u001b[1;33m,\u001b[0m\u001b[0mfbeta_score\u001b[0m\u001b[1;33m,\u001b[0m\u001b[0mmatthews_corrcoef\u001b[0m\u001b[1;33m\u001b[0m\u001b[1;33m\u001b[0m\u001b[0m\n\u001b[0;32m      4\u001b[0m \u001b[1;32mfrom\u001b[0m \u001b[0msklearn\u001b[0m \u001b[1;32mimport\u001b[0m \u001b[0mmetrics\u001b[0m\u001b[1;33m\u001b[0m\u001b[1;33m\u001b[0m\u001b[0m\n\u001b[1;32m----> 5\u001b[1;33m \u001b[1;32mfrom\u001b[0m \u001b[0mmlxtend\u001b[0m\u001b[1;33m.\u001b[0m\u001b[0mplotting\u001b[0m \u001b[1;32mimport\u001b[0m \u001b[0mplot_confusion_matrix\u001b[0m\u001b[1;33m\u001b[0m\u001b[1;33m\u001b[0m\u001b[0m\n\u001b[0m",
      "\u001b[1;31mModuleNotFoundError\u001b[0m: No module named 'mlxtend'"
     ]
    }
   ],
   "source": [
    "#model validation\n",
    "from sklearn.metrics import log_loss,roc_auc_score,precision_score,f1_score,recall_score,roc_curve,auc,plot_roc_curve\n",
    "from sklearn.metrics import classification_report, confusion_matrix,accuracy_score,fbeta_score,matthews_corrcoef\n",
    "from sklearn import metrics\n",
    "from mlxtend.plotting import plot_confusion_matrix"
   ]
  },
  {
   "cell_type": "markdown",
   "id": "4c0b1a65",
   "metadata": {},
   "source": [
    "For model validation, we'll import a few libraries."
   ]
  },
  {
   "cell_type": "code",
   "execution_count": 4,
   "id": "f46befff",
   "metadata": {},
   "outputs": [],
   "source": [
    "#extra\n",
    "from sklearn.pipeline import make_pipeline, make_union\n",
    "from sklearn.preprocessing import PolynomialFeatures\n",
    "from sklearn.feature_selection import SelectFwe, f_regression"
   ]
  },
  {
   "cell_type": "markdown",
   "id": "09e4d50d",
   "metadata": {},
   "source": [
    "Next, we will import all the Machine Learning algorithms\n",
    "\n",
    "*   K-Nearest Neighbors Classifier\n",
    "*   Random Forest Classifier\n",
    "*   Decision Tree Classifier\n",
    "*   Naive Bayes Classifier\n"
   ]
  },
  {
   "cell_type": "code",
   "execution_count": null,
   "id": "331a41e1",
   "metadata": {},
   "outputs": [],
   "source": [
    "from sklearn.ensemble import RandomForestClassifier\n",
    "from sklearn.neighbors import KNeighborsClassifier\n",
    "from sklearn.tree import DecisionTreeClassifier\n",
    "from sklearn.naive_bayes import GaussianNB"
   ]
  },
  {
   "cell_type": "markdown",
   "id": "9cd99032",
   "metadata": {},
   "source": [
    "## **Import dataset**\n",
    "\n",
    "Now that we have all the libraries we will need, we can import the dataset and take a look at it. The dataset is stored in the file `dataset.csv`. We'll use the pandas `read_csv` method to read the dataset."
   ]
  },
  {
   "cell_type": "code",
   "execution_count": null,
   "id": "8b4ad1ad",
   "metadata": {},
   "outputs": [],
   "source": [
    "dataset = pd.read_csv('dataset.csv',sep=',',encoding=\"utf-8\")"
   ]
  },
  {
   "cell_type": "markdown",
   "id": "1ed93818",
   "metadata": {},
   "source": [
    "### **Data Preparation and Data Exploration**"
   ]
  },
  {
   "cell_type": "code",
   "execution_count": null,
   "id": "e65a29fa",
   "metadata": {},
   "outputs": [],
   "source": [
    "type(dataset)"
   ]
  },
  {
   "cell_type": "code",
   "execution_count": null,
   "id": "9b0d1cfa",
   "metadata": {},
   "outputs": [],
   "source": [
    "dataset.shape"
   ]
  },
  {
   "cell_type": "markdown",
   "id": "97ee70ae",
   "metadata": {},
   "source": [
    "The dataset is now loaded into the variable dataset. We'll just take a glimpse of the data using the `desribe()` and `info()` methods before we actually start processing and visualizing it."
   ]
  },
  {
   "cell_type": "code",
   "execution_count": null,
   "id": "d71a87fc",
   "metadata": {},
   "outputs": [],
   "source": [
    "dataset.info()"
   ]
  },
  {
   "cell_type": "markdown",
   "id": "74890fb1",
   "metadata": {},
   "source": [
    "Looks like the dataset has a total of 270 rows and there are no missing values. There are a total of 13 features along with one target value which we wish to find."
   ]
  },
  {
   "cell_type": "code",
   "execution_count": null,
   "id": "dee6912e",
   "metadata": {},
   "outputs": [],
   "source": [
    "dataset.columns\n"
   ]
  },
  {
   "cell_type": "code",
   "execution_count": null,
   "id": "e7fadf1f",
   "metadata": {},
   "outputs": [],
   "source": [
    "dataset.describe()"
   ]
  },
  {
   "cell_type": "markdown",
   "id": "9ece7ed8",
   "metadata": {},
   "source": [
    "The scale of each feature column is different and quite varied as well. While the maximum for age reaches 77, the maximum of chol (serum cholestoral) is 564."
   ]
  },
  {
   "cell_type": "code",
   "execution_count": null,
   "id": "227e54aa",
   "metadata": {},
   "outputs": [],
   "source": [
    "dataset"
   ]
  },
  {
   "cell_type": "code",
   "execution_count": null,
   "id": "d66e3d28",
   "metadata": {},
   "outputs": [],
   "source": [
    "dataset.head()"
   ]
  },
  {
   "cell_type": "code",
   "execution_count": null,
   "id": "acd9bb35",
   "metadata": {},
   "outputs": [],
   "source": [
    "dataset.isnull().sum()"
   ]
  },
  {
   "cell_type": "markdown",
   "id": "c4b3f142",
   "metadata": {},
   "source": [
    "So, we have no missing values"
   ]
  },
  {
   "cell_type": "code",
   "execution_count": null,
   "id": "854eba78",
   "metadata": {},
   "outputs": [],
   "source": [
    "dataset.apply(lambda x:len(x.unique()))\n"
   ]
  },
  {
   "cell_type": "code",
   "execution_count": null,
   "id": "ce23f1e0",
   "metadata": {},
   "outputs": [],
   "source": [
    "print('cp ',dataset['cp'].unique())\n",
    "print('fbs ',dataset['fbs'].unique())\n",
    "print('restecg ',dataset['restecg'].unique())\n",
    "print('exang ',dataset['exang'].unique())\n",
    "print('slope ',dataset['slope'].unique())\n",
    "print('ca ',dataset['ca'].unique())\n",
    "print('thal ',dataset['thal'].unique())\n"
   ]
  },
  {
   "cell_type": "markdown",
   "id": "09fb794f",
   "metadata": {},
   "source": [
    "### **Dataset Description:**\n",
    "\n",
    "This dataset consists of 13 features and a target variable. The detailed description of all the features are as follows:\n",
    "\n",
    "1. **Age**: Patients Age in years (Numeric)\n",
    "\n",
    "---\n",
    "\n",
    "2. **Sex**: Gender of patient (Male - 1, Female - 0)(Nominal)\n",
    "\n",
    "---\n",
    "\n",
    "3. **Chest Pain Type**: Type of chest pain experienced by patient categorized into :(Nominal)\n",
    "* Value 1: Typical angina\n",
    "* Value 2: Atypical angina\n",
    "* Value 3: Non-anginal pain\n",
    "* Value 4: Asymptomatic\n",
    "\n",
    "(Angina: Angina is caused when there is not enough oxygen-rich blood flowing to a certain part of the heart. The arteries of the heart become narrow due to fatty deposits in the artery walls. The narrowing of arteries means that blood supply to the heart is reduced, causing angina.)\n",
    "\n",
    "---\n",
    "\n",
    "4. **resting bps**: Level of blood pressure at resting mode in mm/HG (Numerical)\n",
    "\n",
    "---\n",
    "\n",
    "5. **cholestrol**: Serum cholestrol in mg/dl (Numeric)\n",
    "(Cholesterol means the blockage for blood supply in the blood vessels)\n",
    "\n",
    "---\n",
    "\n",
    "6. **fasting blood sugar**: Blood sugar levels on fasting > 120 mg/dl represents as 1 in case of true and 0 as false (Nominal)\n",
    "(blood sugar taken after a long gap between a meal and the test. Typically, it's taken before any meal in the morning.)\n",
    "\n",
    "---\n",
    "\n",
    "7. **resting ecg**: Result of electrocardiogram while at rest are represented in 3 distinct values: (Nominal)\n",
    "* Value 0: Normal\n",
    "* Value 1: Having ST-T wave abnormality (T wave inversions and/or ST elevation or depression of > 0.05 mV)\n",
    "* Value 2: Showing probable or definite left ventricular hypertrophy by Estes' criteria.\n",
    "\n",
    "( ECG values taken while person is on rest which means no exercise and normal functioning of heart is happening)\n",
    "\n",
    "---\n",
    "\n",
    "8. **oldpeak**: Exercise induced ST-depression in comparison with the state of rest (Numeric)\n",
    "\n",
    "(ST Depression is the difference between value of ECG at rest and after exercise.\n",
    "An electrocardiogram records the electrical signals in your heart. It's a common and painless test used to quickly detect heart problems and monitor your heart's health. Electrocardiograms — also called ECGs or EKGs — are often done in a doctor's office, a clinic or a hospital room. ECG machines are standard equipment in operating rooms and ambulances. Some personal devices, such as smart watches.)\n",
    "\n",
    "---\n",
    "\n",
    "9. **ST slope**: ST segment measured in terms of slope during peak exercise (Nominal) \n",
    "* Value 1: Upsloping\n",
    "* Value 2: Flat\n",
    "* Value 3: Downsloping\n",
    "\n",
    "---\n",
    "\n",
    "10. **ca**: Number of major blood vessels (0-3)(Numeric)\n",
    "\n",
    "(Fluoroscopy is an imaging technique that uses X-rays to obtain real-time moving images of the interior of an object. In its primary application of medical imaging, a fluoroscope allows a physician to see the internal structure and function of a patient, so that the pumping action of the heart or the motion of swallowing, for example, can be watched)\n",
    "\n",
    "---\n",
    "\n",
    "11. **exang**: Exercise induced angina (1 = yes; 0 = no)\n",
    "\n",
    "(is chest pain while exercising or doing any physical activity.)\n",
    "\n",
    "---\n",
    "\n",
    "12. **thal**: Thalium stress test \n",
    "* Value 3: normal\n",
    "* Value 6: fixed defect\n",
    "* Value 7: reversibe defect\n",
    "\n",
    "---\n",
    "\n",
    "13. **thalach**: Maximum heart rate achieved in bpm(Numeric)\n",
    "\n",
    "---\n",
    "---\n",
    "\n",
    "**Target variable**\n",
    "14. **target**: It is the target variable which we have to predict 2 means patient is suffering from heart risk and 1 means patient is normal. (1 = no disease; 2 = disease)"
   ]
  },
  {
   "cell_type": "markdown",
   "id": "1db5de7e",
   "metadata": {},
   "source": [
    "## **Data Visualization**\n",
    "Now let's see various visual representations of the data to understand more about relationship between various features."
   ]
  },
  {
   "cell_type": "markdown",
   "id": "0170c613",
   "metadata": {},
   "source": [
    "### **Distribution of Heart disease (target variable)**\n",
    "\n",
    "It's always a good practice to work with a dataset where the target classes are of approximately equal size. Thus, let's check for the same."
   ]
  },
  {
   "cell_type": "code",
   "execution_count": null,
   "id": "53c6b078",
   "metadata": {},
   "outputs": [],
   "source": [
    "fig, (ax1) = plt.subplots(nrows=1, ncols=1, sharey=False, figsize=(14,6))\n",
    "\n",
    "ax1 = dataset['target'].value_counts().plot.pie( x=\"Heart disease\" ,y ='no.of patients', \n",
    "                   autopct = \"%1.0f%%\",labels=[\"Heart Disease\",\"Normal\"], startangle = 60,ax=ax1);\n",
    "ax1.set(title = 'Percentage of Heart disease patients in Dataset')\n",
    "plt.show()"
   ]
  },
  {
   "cell_type": "markdown",
   "id": "baa6f55b",
   "metadata": {},
   "source": [
    "The two classes are not exactly 50% each but the ratio is good enough to continue without dropping/increasing our data."
   ]
  },
  {
   "cell_type": "code",
   "execution_count": null,
   "id": "44b142ca",
   "metadata": {},
   "outputs": [],
   "source": [
    "y = dataset[\"target\"]"
   ]
  },
  {
   "cell_type": "code",
   "execution_count": null,
   "id": "a7027d79",
   "metadata": {},
   "outputs": [],
   "source": [
    "rcParams['figure.figsize'] = 8,6\n",
    "plt.bar(dataset['target'].unique(), dataset['target'].value_counts(), color = ['blue', 'green'])\n",
    "plt.xticks([1, 2])\n",
    "plt.xlabel('Target Classes (1 =no disease; 2 = disease)')\n",
    "plt.ylabel('Samples')\n",
    "plt.title('Count of each Target Class')\n",
    "target_temp = dataset.target.value_counts()\n",
    "print(target_temp)"
   ]
  },
  {
   "cell_type": "markdown",
   "id": "44240e96",
   "metadata": {},
   "source": [
    "From the total dataset of 270 patients, 150 (56%) have a heart disease (target=2)"
   ]
  },
  {
   "cell_type": "markdown",
   "id": "3ac88615",
   "metadata": {},
   "source": [
    "Next, we'll take a look at the histograms for each variable."
   ]
  },
  {
   "cell_type": "code",
   "execution_count": null,
   "id": "7a9d074b",
   "metadata": {},
   "outputs": [],
   "source": [
    "dataset.hist(edgecolor='black',layout = (7, 2),\n",
    "            figsize = (10, 30),\n",
    "            color=['purple'])"
   ]
  },
  {
   "cell_type": "markdown",
   "id": "4d7fae01",
   "metadata": {},
   "source": [
    "Taking a look at the histograms above, I can see that each feature has a different range of distribution. Thus, using scaling before our predictions should be of great use. Also, the categorical features do stand out."
   ]
  },
  {
   "cell_type": "markdown",
   "id": "d0652b2a",
   "metadata": {},
   "source": [
    "## **Exploratory Data Analysis (EDA)**"
   ]
  },
  {
   "cell_type": "markdown",
   "id": "380522d6",
   "metadata": {},
   "source": [
    "### **Gender distribution based on heart disease**"
   ]
  },
  {
   "cell_type": "code",
   "execution_count": null,
   "id": "5a183d70",
   "metadata": {},
   "outputs": [],
   "source": [
    "dataset[\"sex\"].unique()"
   ]
  },
  {
   "cell_type": "code",
   "execution_count": null,
   "id": "2a2df734",
   "metadata": {},
   "outputs": [],
   "source": [
    "# Number of males and females\n",
    "F = dataset[dataset[\"sex\"] == 0].count()[\"target\"]\n",
    "M = dataset[dataset[\"sex\"] == 1].count()[\"target\"]\n",
    "\n",
    "# Create a plot\n",
    "figure, ax = plt.subplots(figsize = (6, 4))\n",
    "ax.bar(x = ['Female', 'Male'], height = [F, M])\n",
    "plt.xlabel('Gender')\n",
    "plt.title('Number of Males and Females in the dataset')\n",
    "plt.show()\n"
   ]
  },
  {
   "cell_type": "markdown",
   "id": "452358cd",
   "metadata": {},
   "source": [
    "**Heart Disease frequency for gender**"
   ]
  },
  {
   "cell_type": "code",
   "execution_count": null,
   "id": "0a3ba300",
   "metadata": {},
   "outputs": [],
   "source": [
    "pd.crosstab(dataset.sex,dataset.target).plot(kind=\"bar\",figsize=(20,10),color=['blue','#AA1111' ])\n",
    "plt.title('Heart Disease Frequency for Sex')\n",
    "plt.xlabel('Sex (0 = Female, 1 = Male)')\n",
    "plt.xticks(rotation=0)\n",
    "plt.legend([\"Don't have Disease\", \"Have Disease\"])\n",
    "plt.ylabel('Frequency')\n",
    "plt.show()"
   ]
  },
  {
   "cell_type": "code",
   "execution_count": null,
   "id": "b0768159",
   "metadata": {},
   "outputs": [],
   "source": [
    "countFemale = len(dataset[dataset.sex == 0])\n",
    "countMale = len(dataset[dataset.sex == 1])\n",
    "print(\"Percentage of Female Patients:{:.2f}%\".format((countFemale)/(len(dataset.sex))*100))\n",
    "print(\"Percentage of Male Patients:{:.2f}%\".format((countMale)/(len(dataset.sex))*100))"
   ]
  },
  {
   "cell_type": "markdown",
   "id": "a0a3d8c5",
   "metadata": {},
   "source": [
    "### **Age distribution based on heart disease**"
   ]
  },
  {
   "cell_type": "code",
   "execution_count": null,
   "id": "529c94b4",
   "metadata": {},
   "outputs": [],
   "source": [
    "# Display age distribution based on heart disease\n",
    "sns.distplot(dataset[dataset['target'] == 1]['age'], label='Do not have heart disease')\n",
    "sns.distplot(dataset[dataset['target'] == 2]['age'], label = 'Have heart disease')\n",
    "plt.xlabel('Frequency')\n",
    "plt.ylabel('Age')\n",
    "plt.title('Age Distribution based on Heart Disease')\n",
    "plt.legend()\n",
    "plt.show()"
   ]
  },
  {
   "cell_type": "markdown",
   "id": "fb21e14c",
   "metadata": {},
   "source": [
    "Get min, max and average of the age of the people do not have heart disease"
   ]
  },
  {
   "cell_type": "code",
   "execution_count": null,
   "id": "c0da4bb5",
   "metadata": {},
   "outputs": [],
   "source": [
    "print('Min age of people who do not have heart disease: ', min(dataset[dataset['target'] == 1]['age']))\n",
    "print('Max age of people who do not have heart disease: ', max(dataset[dataset['target'] == 1]['age']))\n",
    "print('Average age of people who do not have heart disease: ', dataset[dataset['target'] == 1]['age'].mean())"
   ]
  },
  {
   "cell_type": "markdown",
   "id": "a8e8f507",
   "metadata": {},
   "source": [
    "Get min, max and average of the age of the people have heart disease"
   ]
  },
  {
   "cell_type": "code",
   "execution_count": null,
   "id": "388a33d3",
   "metadata": {},
   "outputs": [],
   "source": [
    "print('Min age of people who have heart disease: ', min(dataset[dataset['target'] == 2]['age']))\n",
    "print('Max age of people who have heart disease: ', max(dataset[dataset['target'] == 2]['age']))\n",
    "print('Average age of people who have heart disease: ', dataset[dataset['target'] == 2]['age'].mean())"
   ]
  },
  {
   "cell_type": "markdown",
   "id": "327be9df",
   "metadata": {},
   "source": [
    "From the data, we can say that the heart disease infects the old and young people, and the probability of the old people te be infected is higher than young people.  \n",
    "\n"
   ]
  },
  {
   "cell_type": "markdown",
   "id": "e3961af5",
   "metadata": {},
   "source": [
    "**Heart Disease Frequency for ages**"
   ]
  },
  {
   "cell_type": "code",
   "execution_count": null,
   "id": "a73172bb",
   "metadata": {},
   "outputs": [],
   "source": [
    "pd.crosstab(dataset.age,dataset.target).plot(kind=\"bar\",figsize=(20,6))\n",
    "plt.title('Heart Disease Frequency for Ages')\n",
    "plt.xlabel('Age')\n",
    "plt.ylabel('Frequency')\n",
    "plt.savefig('heartDiseaseAndAges.png')\n",
    "plt.show()"
   ]
  }
 ],
 "metadata": {
  "kernelspec": {
   "display_name": "Python 3 (ipykernel)",
   "language": "python",
   "name": "python3"
  },
  "language_info": {
   "codemirror_mode": {
    "name": "ipython",
    "version": 3
   },
   "file_extension": ".py",
   "mimetype": "text/x-python",
   "name": "python",
   "nbconvert_exporter": "python",
   "pygments_lexer": "ipython3",
   "version": "3.9.7"
  }
 },
 "nbformat": 4,
 "nbformat_minor": 5
}
